{
 "cells": [
  {
   "cell_type": "markdown",
   "id": "156c7fc1",
   "metadata": {},
   "source": [
    "# About DataSet"
   ]
  },
  {
   "cell_type": "code",
   "execution_count": null,
   "id": "d9a997c3",
   "metadata": {},
   "outputs": [],
   "source": []
  },
  {
   "cell_type": "markdown",
   "id": "3c8edc31",
   "metadata": {},
   "source": [
    "# Loading Libraries"
   ]
  },
  {
   "cell_type": "code",
   "execution_count": null,
   "id": "06ec295d",
   "metadata": {},
   "outputs": [],
   "source": [
    "## Data processing\n",
    "\n",
    "import pandas as pd  # data processing\n",
    "import numpy as np   # array processing\n",
    "import os            # data importing\n",
    "\n",
    "\n",
    "\n",
    "## Data Analysis\n",
    "\n",
    "import matplotlib.pyplot as plt    # plots\n",
    "import seaborn as sns"
   ]
  }
 ],
 "metadata": {
  "kernelspec": {
   "display_name": "Python 3 (ipykernel)",
   "language": "python",
   "name": "python3"
  },
  "language_info": {
   "codemirror_mode": {
    "name": "ipython",
    "version": 3
   },
   "file_extension": ".py",
   "mimetype": "text/x-python",
   "name": "python",
   "nbconvert_exporter": "python",
   "pygments_lexer": "ipython3",
   "version": "3.9.12"
  }
 },
 "nbformat": 4,
 "nbformat_minor": 5
}
